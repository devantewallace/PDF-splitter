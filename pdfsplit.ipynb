{
 "cells": [
  {
   "cell_type": "code",
   "execution_count": 21,
   "metadata": {},
   "outputs": [],
   "source": [
    "from PyPDF2 import PdfWriter, PdfReader         #imports the pdf writer and reader functions\n",
    "\n",
    "Ticket = open(\"Ticket_1.pdf\", \"rb\")             #creates variable to open, save and the pdf. rb Opens a file for reading only in binary format. The file pointer is placed at the beginning of the file.\n",
    "\n",
    "inputpdf = PdfReader(Ticket)                    #reads the pdf into python and saves into a variable\n",
    "\n",
    "for i in range(inputpdf.numPages):              #iterates through the page numbers in the pdf \n",
    "    output = PdfWriter()                        #saves the pdf writer function to a variable\n",
    "    output.addPage(inputpdf.getPage(i))         #the pdf writer adds page i from the pdf to the output variable\n",
    "    with open(\"Ticket-page%s.pdf\" % i, \"wb\") as outputStream:       #with statement guarantees the file will close on completion of the block. A PDF with a new name is created with the variable outputstream and we are writing to the file in binary mode (wb). When writing in binary mode, Python makes no changes to data as it is written to the file \n",
    "        output.write(outputStream)                                  #the output variable write the data it has stored to the outputstream variable"
   ]
  }
 ],
 "metadata": {
  "kernelspec": {
   "display_name": "Python 3.10.7 64-bit (microsoft store)",
   "language": "python",
   "name": "python3"
  },
  "language_info": {
   "codemirror_mode": {
    "name": "ipython",
    "version": 3
   },
   "file_extension": ".py",
   "mimetype": "text/x-python",
   "name": "python",
   "nbconvert_exporter": "python",
   "pygments_lexer": "ipython3",
   "version": "3.10.7"
  },
  "orig_nbformat": 4,
  "vscode": {
   "interpreter": {
    "hash": "a7dbb88c84ecda04e2dfa8176cb6708abf8c95c32934f510df16d1a1f4945387"
   }
  }
 },
 "nbformat": 4,
 "nbformat_minor": 2
}
